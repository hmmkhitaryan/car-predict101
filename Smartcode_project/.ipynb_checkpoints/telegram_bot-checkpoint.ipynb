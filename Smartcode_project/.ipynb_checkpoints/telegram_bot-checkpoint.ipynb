{
 "cells": [
  {
   "cell_type": "code",
   "execution_count": null,
   "id": "e7a74c8b-defa-4f84-a44c-6b3536d7cd7c",
   "metadata": {},
   "outputs": [],
   "source": [
    "from telegram.ext import Updater, CommandHandler\n",
    "\n",
    "# Replace 'YOUR_BOT_TOKEN' with the token you received from BotFather\n",
    "TOKEN = 'YOUR_BOT_TOKEN'\n",
    "\n",
    "def start(update, context):\n",
    "    update.message.reply_text('Hello! I am your Telegram bot.')\n",
    "\n",
    "def main():\n",
    "    # Create the Updater and pass it your bot's token\n",
    "    updater = Updater(TOKEN, use_context=True)\n",
    "\n",
    "    # Get the dispatcher to register handlers\n",
    "    dp = updater.dispatcher\n",
    "\n",
    "    # Register the command handler\n",
    "    dp.add_handler(CommandHandler(\"start\", start))\n",
    "\n",
    "    # Start the Bot\n",
    "    updater.start_polling()\n",
    "\n",
    "    # Run the bot until you send a signal (Ctrl+C)\n",
    "    updater.idle()\n",
    "\n",
    "if __name__ == '__main__':\n",
    "    main()\n"
   ]
  },
  {
   "cell_type": "code",
   "execution_count": null,
   "id": "97f3d0eb-4339-41db-bfe6-099a53b281ea",
   "metadata": {},
   "outputs": [],
   "source": []
  },
  {
   "cell_type": "code",
   "execution_count": null,
   "id": "4169ca92-10c8-47c3-91c4-53fa342bcaba",
   "metadata": {},
   "outputs": [],
   "source": []
  }
 ],
 "metadata": {
  "kernelspec": {
   "display_name": "Python 3 (ipykernel)",
   "language": "python",
   "name": "python3"
  },
  "language_info": {
   "codemirror_mode": {
    "name": "ipython",
    "version": 3
   },
   "file_extension": ".py",
   "mimetype": "text/x-python",
   "name": "python",
   "nbconvert_exporter": "python",
   "pygments_lexer": "ipython3",
   "version": "3.11.0"
  }
 },
 "nbformat": 4,
 "nbformat_minor": 5
}
